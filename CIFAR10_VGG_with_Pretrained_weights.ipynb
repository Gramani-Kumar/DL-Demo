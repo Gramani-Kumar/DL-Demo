{
  "nbformat": 4,
  "nbformat_minor": 0,
  "metadata": {
    "colab": {
      "name": "CIFAR10_VGG with Pretrained weights.ipynb",
      "provenance": [],
      "collapsed_sections": [],
      "authorship_tag": "ABX9TyON2Acu5B7BkosWz2x5l/7P",
      "include_colab_link": true
    },
    "kernelspec": {
      "name": "python3",
      "display_name": "Python 3"
    },
    "widgets": {
      "application/vnd.jupyter.widget-state+json": {
        "4d9c04925644448eb774801cc19856e0": {
          "model_module": "@jupyter-widgets/controls",
          "model_name": "HBoxModel",
          "state": {
            "_view_name": "HBoxView",
            "_dom_classes": [],
            "_model_name": "HBoxModel",
            "_view_module": "@jupyter-widgets/controls",
            "_model_module_version": "1.5.0",
            "_view_count": null,
            "_view_module_version": "1.5.0",
            "box_style": "",
            "layout": "IPY_MODEL_471459eb87d040e280d583db167c4a66",
            "_model_module": "@jupyter-widgets/controls",
            "children": [
              "IPY_MODEL_8b09bf47847e4f3ea8569ac1d3975a2b",
              "IPY_MODEL_6935faadc787430d8c762b09e17f0653"
            ]
          }
        },
        "471459eb87d040e280d583db167c4a66": {
          "model_module": "@jupyter-widgets/base",
          "model_name": "LayoutModel",
          "state": {
            "_view_name": "LayoutView",
            "grid_template_rows": null,
            "right": null,
            "justify_content": null,
            "_view_module": "@jupyter-widgets/base",
            "overflow": null,
            "_model_module_version": "1.2.0",
            "_view_count": null,
            "flex_flow": null,
            "width": null,
            "min_width": null,
            "border": null,
            "align_items": null,
            "bottom": null,
            "_model_module": "@jupyter-widgets/base",
            "top": null,
            "grid_column": null,
            "overflow_y": null,
            "overflow_x": null,
            "grid_auto_flow": null,
            "grid_area": null,
            "grid_template_columns": null,
            "flex": null,
            "_model_name": "LayoutModel",
            "justify_items": null,
            "grid_row": null,
            "max_height": null,
            "align_content": null,
            "visibility": null,
            "align_self": null,
            "height": null,
            "min_height": null,
            "padding": null,
            "grid_auto_rows": null,
            "grid_gap": null,
            "max_width": null,
            "order": null,
            "_view_module_version": "1.2.0",
            "grid_template_areas": null,
            "object_position": null,
            "object_fit": null,
            "grid_auto_columns": null,
            "margin": null,
            "display": null,
            "left": null
          }
        },
        "8b09bf47847e4f3ea8569ac1d3975a2b": {
          "model_module": "@jupyter-widgets/controls",
          "model_name": "FloatProgressModel",
          "state": {
            "_view_name": "ProgressView",
            "style": "IPY_MODEL_b76a9ce0b88447f58709759a4251f559",
            "_dom_classes": [],
            "description": "100%",
            "_model_name": "FloatProgressModel",
            "bar_style": "success",
            "max": 553507836,
            "_view_module": "@jupyter-widgets/controls",
            "_model_module_version": "1.5.0",
            "value": 553507836,
            "_view_count": null,
            "_view_module_version": "1.5.0",
            "orientation": "horizontal",
            "min": 0,
            "description_tooltip": null,
            "_model_module": "@jupyter-widgets/controls",
            "layout": "IPY_MODEL_44563a5ece7a4a18a6108b8220f132a4"
          }
        },
        "6935faadc787430d8c762b09e17f0653": {
          "model_module": "@jupyter-widgets/controls",
          "model_name": "HTMLModel",
          "state": {
            "_view_name": "HTMLView",
            "style": "IPY_MODEL_dfef0b438eae4fb58e8570b4f16ad87b",
            "_dom_classes": [],
            "description": "",
            "_model_name": "HTMLModel",
            "placeholder": "​",
            "_view_module": "@jupyter-widgets/controls",
            "_model_module_version": "1.5.0",
            "value": " 528M/528M [14:52&lt;00:00, 620kB/s]",
            "_view_count": null,
            "_view_module_version": "1.5.0",
            "description_tooltip": null,
            "_model_module": "@jupyter-widgets/controls",
            "layout": "IPY_MODEL_ffcb9bfb3ca64d19acb932df23117b4a"
          }
        },
        "b76a9ce0b88447f58709759a4251f559": {
          "model_module": "@jupyter-widgets/controls",
          "model_name": "ProgressStyleModel",
          "state": {
            "_view_name": "StyleView",
            "_model_name": "ProgressStyleModel",
            "description_width": "initial",
            "_view_module": "@jupyter-widgets/base",
            "_model_module_version": "1.5.0",
            "_view_count": null,
            "_view_module_version": "1.2.0",
            "bar_color": null,
            "_model_module": "@jupyter-widgets/controls"
          }
        },
        "44563a5ece7a4a18a6108b8220f132a4": {
          "model_module": "@jupyter-widgets/base",
          "model_name": "LayoutModel",
          "state": {
            "_view_name": "LayoutView",
            "grid_template_rows": null,
            "right": null,
            "justify_content": null,
            "_view_module": "@jupyter-widgets/base",
            "overflow": null,
            "_model_module_version": "1.2.0",
            "_view_count": null,
            "flex_flow": null,
            "width": null,
            "min_width": null,
            "border": null,
            "align_items": null,
            "bottom": null,
            "_model_module": "@jupyter-widgets/base",
            "top": null,
            "grid_column": null,
            "overflow_y": null,
            "overflow_x": null,
            "grid_auto_flow": null,
            "grid_area": null,
            "grid_template_columns": null,
            "flex": null,
            "_model_name": "LayoutModel",
            "justify_items": null,
            "grid_row": null,
            "max_height": null,
            "align_content": null,
            "visibility": null,
            "align_self": null,
            "height": null,
            "min_height": null,
            "padding": null,
            "grid_auto_rows": null,
            "grid_gap": null,
            "max_width": null,
            "order": null,
            "_view_module_version": "1.2.0",
            "grid_template_areas": null,
            "object_position": null,
            "object_fit": null,
            "grid_auto_columns": null,
            "margin": null,
            "display": null,
            "left": null
          }
        },
        "dfef0b438eae4fb58e8570b4f16ad87b": {
          "model_module": "@jupyter-widgets/controls",
          "model_name": "DescriptionStyleModel",
          "state": {
            "_view_name": "StyleView",
            "_model_name": "DescriptionStyleModel",
            "description_width": "",
            "_view_module": "@jupyter-widgets/base",
            "_model_module_version": "1.5.0",
            "_view_count": null,
            "_view_module_version": "1.2.0",
            "_model_module": "@jupyter-widgets/controls"
          }
        },
        "ffcb9bfb3ca64d19acb932df23117b4a": {
          "model_module": "@jupyter-widgets/base",
          "model_name": "LayoutModel",
          "state": {
            "_view_name": "LayoutView",
            "grid_template_rows": null,
            "right": null,
            "justify_content": null,
            "_view_module": "@jupyter-widgets/base",
            "overflow": null,
            "_model_module_version": "1.2.0",
            "_view_count": null,
            "flex_flow": null,
            "width": null,
            "min_width": null,
            "border": null,
            "align_items": null,
            "bottom": null,
            "_model_module": "@jupyter-widgets/base",
            "top": null,
            "grid_column": null,
            "overflow_y": null,
            "overflow_x": null,
            "grid_auto_flow": null,
            "grid_area": null,
            "grid_template_columns": null,
            "flex": null,
            "_model_name": "LayoutModel",
            "justify_items": null,
            "grid_row": null,
            "max_height": null,
            "align_content": null,
            "visibility": null,
            "align_self": null,
            "height": null,
            "min_height": null,
            "padding": null,
            "grid_auto_rows": null,
            "grid_gap": null,
            "max_width": null,
            "order": null,
            "_view_module_version": "1.2.0",
            "grid_template_areas": null,
            "object_position": null,
            "object_fit": null,
            "grid_auto_columns": null,
            "margin": null,
            "display": null,
            "left": null
          }
        }
      }
    },
    "accelerator": "GPU"
  },
  "cells": [
    {
      "cell_type": "markdown",
      "metadata": {
        "id": "view-in-github",
        "colab_type": "text"
      },
      "source": [
        "<a href=\"https://colab.research.google.com/github/Gramani-Kumar/DL-Demo/blob/master/CIFAR10_VGG_with_Pretrained_weights.ipynb\" target=\"_parent\"><img src=\"https://colab.research.google.com/assets/colab-badge.svg\" alt=\"Open In Colab\"/></a>"
      ]
    },
    {
      "cell_type": "code",
      "metadata": {
        "id": "Lg-IFMooHy_w",
        "colab_type": "code",
        "colab": {}
      },
      "source": [
        "import numpy as np\n",
        "import torch \n",
        "import torchvision.transforms as transforms\n",
        "import matplotlib.pyplot as plt\n"
      ],
      "execution_count": 60,
      "outputs": []
    },
    {
      "cell_type": "code",
      "metadata": {
        "id": "9OQMfaWiIDOm",
        "colab_type": "code",
        "colab": {}
      },
      "source": [
        "#Lets download the data.\n",
        "#Apply Transformation as well.\n",
        "\n",
        "#Prepare Transformation.\n",
        "myTransformObj = transforms.Compose([transforms.RandomResizedCrop(224), transforms.ToTensor(), transforms.Normalize((0.5,0.5,0.5),(0.5,0.5,0.5))])\n",
        "\n",
        "#CIFAR10 is just 32x32 we've created transform to apply in each image.\n",
        "# the transform ouput will be 224x224, normalized on each colour. \n",
        "# Mean on each channel applied to 0.5\n",
        "# Standard diviation applied on each channel to 0.5\n"
      ],
      "execution_count": 61,
      "outputs": []
    },
    {
      "cell_type": "code",
      "metadata": {
        "id": "c-H-kdUcOkh_",
        "colab_type": "code",
        "colab": {
          "base_uri": "https://localhost:8080/",
          "height": 51
        },
        "outputId": "8785f8ba-e827-40e7-d29b-b17213210b36"
      },
      "source": [
        "import torchvision \n",
        "#Download the data and apply transformer.\n",
        "trainset = torchvision.datasets.CIFAR10(\"myData\",train = True, transform= myTransformObj, download=True)\n",
        "testset = torchvision.datasets.CIFAR10(\"myData\",train = False, transform= myTransformObj, download=True)\n"
      ],
      "execution_count": 62,
      "outputs": [
        {
          "output_type": "stream",
          "text": [
            "Files already downloaded and verified\n",
            "Files already downloaded and verified\n"
          ],
          "name": "stdout"
        }
      ]
    },
    {
      "cell_type": "code",
      "metadata": {
        "id": "vSRIxg_qPsAQ",
        "colab_type": "code",
        "colab": {}
      },
      "source": [
        "tData = torch.utils.data.DataLoader(trainset, batch_size=4, shuffle=True)\n",
        "#testData = torch.utils.data.DataLoader(testset, )"
      ],
      "execution_count": 6,
      "outputs": []
    },
    {
      "cell_type": "code",
      "metadata": {
        "id": "WG5dysxTh6_Y",
        "colab_type": "code",
        "colab": {}
      },
      "source": [
        "t = iter(tData)\n",
        "img,label = t.next()"
      ],
      "execution_count": 7,
      "outputs": []
    },
    {
      "cell_type": "code",
      "metadata": {
        "id": "FI2tvLwEiyZA",
        "colab_type": "code",
        "colab": {
          "base_uri": "https://localhost:8080/",
          "height": 34
        },
        "outputId": "4d8a7526-4ca7-4199-d091-83d9ba7bfc02"
      },
      "source": [
        "img.shape"
      ],
      "execution_count": 8,
      "outputs": [
        {
          "output_type": "execute_result",
          "data": {
            "text/plain": [
              "torch.Size([4, 3, 224, 224])"
            ]
          },
          "metadata": {
            "tags": []
          },
          "execution_count": 8
        }
      ]
    },
    {
      "cell_type": "code",
      "metadata": {
        "id": "S-qr_wKUi4xK",
        "colab_type": "code",
        "colab": {
          "base_uri": "https://localhost:8080/",
          "height": 153
        },
        "outputId": "7db541dc-269f-43d4-cc43-71b28183e9f6"
      },
      "source": [
        "t = torchvision.utils.make_grid(img)\n",
        "t = t*.5 + .5 #Unnormalization.\n",
        "plt.imshow(t.numpy().transpose(1, 2, 0))"
      ],
      "execution_count": 9,
      "outputs": [
        {
          "output_type": "execute_result",
          "data": {
            "text/plain": [
              "<matplotlib.image.AxesImage at 0x7f22ed85da90>"
            ]
          },
          "metadata": {
            "tags": []
          },
          "execution_count": 9
        },
        {
          "output_type": "display_data",
          "data": {
            "image/png": "[encoded data removed]",
            "text/plain": [
              "<Figure size 432x288 with 1 Axes>"
            ]
          },
          "metadata": {
            "tags": [],
            "needs_background": "light"
          }
        }
      ]
    },
    {
      "cell_type": "code",
      "metadata": {
        "id": "zCCVxwtvjB_b",
        "colab_type": "code",
        "colab": {}
      },
      "source": [
        "#Instantiate VGG16\n",
        "import torchvision.models as models"
      ],
      "execution_count": 10,
      "outputs": []
    },
    {
      "cell_type": "code",
      "metadata": {
        "id": "5axcOXfY0WB3",
        "colab_type": "code",
        "colab": {
          "base_uri": "https://localhost:8080/",
          "height": 83,
          "referenced_widgets": [
            "4d9c04925644448eb774801cc19856e0",
            "471459eb87d040e280d583db167c4a66",
            "8b09bf47847e4f3ea8569ac1d3975a2b",
            "6935faadc787430d8c762b09e17f0653",
            "b76a9ce0b88447f58709759a4251f559",
            "44563a5ece7a4a18a6108b8220f132a4",
            "dfef0b438eae4fb58e8570b4f16ad87b",
            "ffcb9bfb3ca64d19acb932df23117b4a"
          ]
        },
        "outputId": "c1f9aedd-2623-4130-c73a-aaf37db57fdd"
      },
      "source": [
        "vgg16 = models.vgg16_bn(pretrained=True) #Load with pretrained weight"
      ],
      "execution_count": 11,
      "outputs": [
        {
          "output_type": "stream",
          "text": [
            "Downloading: \"https://download.pytorch.org/models/vgg16_bn-6c64b313.pth\" to /root/.cache/torch/checkpoints/vgg16_bn-6c64b313.pth\n"
          ],
          "name": "stderr"
        },
        {
          "output_type": "display_data",
          "data": {
            "application/vnd.jupyter.widget-view+json": {
              "model_id": "4d9c04925644448eb774801cc19856e0",
              "version_minor": 0,
              "version_major": 2
            },
            "text/plain": [
              "HBox(children=(FloatProgress(value=0.0, max=553507836.0), HTML(value='')))"
            ]
          },
          "metadata": {
            "tags": []
          }
        },
        {
          "output_type": "stream",
          "text": [
            "\n"
          ],
          "name": "stdout"
        }
      ]
    },
    {
      "cell_type": "code",
      "metadata": {
        "id": "Ek9qg3wJ0eyB",
        "colab_type": "code",
        "colab": {
          "base_uri": "https://localhost:8080/",
          "height": 1000
        },
        "outputId": "2464aa1b-66d9-4ac1-bc28-f142a0596c51"
      },
      "source": [
        "#Check the Structure.\n",
        "print(vgg16)"
      ],
      "execution_count": 12,
      "outputs": [
        {
          "output_type": "stream",
          "text": [
            "VGG(\n",
            "  (features): Sequential(\n",
            "    (0): Conv2d(3, 64, kernel_size=(3, 3), stride=(1, 1), padding=(1, 1))\n",
            "    (1): BatchNorm2d(64, eps=1e-05, momentum=0.1, affine=True, track_running_stats=True)\n",
            "    (2): ReLU(inplace=True)\n",
            "    (3): Conv2d(64, 64, kernel_size=(3, 3), stride=(1, 1), padding=(1, 1))\n",
            "    (4): BatchNorm2d(64, eps=1e-05, momentum=0.1, affine=True, track_running_stats=True)\n",
            "    (5): ReLU(inplace=True)\n",
            "    (6): MaxPool2d(kernel_size=2, stride=2, padding=0, dilation=1, ceil_mode=False)\n",
            "    (7): Conv2d(64, 128, kernel_size=(3, 3), stride=(1, 1), padding=(1, 1))\n",
            "    (8): BatchNorm2d(128, eps=1e-05, momentum=0.1, affine=True, track_running_stats=True)\n",
            "    (9): ReLU(inplace=True)\n",
            "    (10): Conv2d(128, 128, kernel_size=(3, 3), stride=(1, 1), padding=(1, 1))\n",
            "    (11): BatchNorm2d(128, eps=1e-05, momentum=0.1, affine=True, track_running_stats=True)\n",
            "    (12): ReLU(inplace=True)\n",
            "    (13): MaxPool2d(kernel_size=2, stride=2, padding=0, dilation=1, ceil_mode=False)\n",
            "    (14): Conv2d(128, 256, kernel_size=(3, 3), stride=(1, 1), padding=(1, 1))\n",
            "    (15): BatchNorm2d(256, eps=1e-05, momentum=0.1, affine=True, track_running_stats=True)\n",
            "    (16): ReLU(inplace=True)\n",
            "    (17): Conv2d(256, 256, kernel_size=(3, 3), stride=(1, 1), padding=(1, 1))\n",
            "    (18): BatchNorm2d(256, eps=1e-05, momentum=0.1, affine=True, track_running_stats=True)\n",
            "    (19): ReLU(inplace=True)\n",
            "    (20): Conv2d(256, 256, kernel_size=(3, 3), stride=(1, 1), padding=(1, 1))\n",
            "    (21): BatchNorm2d(256, eps=1e-05, momentum=0.1, affine=True, track_running_stats=True)\n",
            "    (22): ReLU(inplace=True)\n",
            "    (23): MaxPool2d(kernel_size=2, stride=2, padding=0, dilation=1, ceil_mode=False)\n",
            "    (24): Conv2d(256, 512, kernel_size=(3, 3), stride=(1, 1), padding=(1, 1))\n",
            "    (25): BatchNorm2d(512, eps=1e-05, momentum=0.1, affine=True, track_running_stats=True)\n",
            "    (26): ReLU(inplace=True)\n",
            "    (27): Conv2d(512, 512, kernel_size=(3, 3), stride=(1, 1), padding=(1, 1))\n",
            "    (28): BatchNorm2d(512, eps=1e-05, momentum=0.1, affine=True, track_running_stats=True)\n",
            "    (29): ReLU(inplace=True)\n",
            "    (30): Conv2d(512, 512, kernel_size=(3, 3), stride=(1, 1), padding=(1, 1))\n",
            "    (31): BatchNorm2d(512, eps=1e-05, momentum=0.1, affine=True, track_running_stats=True)\n",
            "    (32): ReLU(inplace=True)\n",
            "    (33): MaxPool2d(kernel_size=2, stride=2, padding=0, dilation=1, ceil_mode=False)\n",
            "    (34): Conv2d(512, 512, kernel_size=(3, 3), stride=(1, 1), padding=(1, 1))\n",
            "    (35): BatchNorm2d(512, eps=1e-05, momentum=0.1, affine=True, track_running_stats=True)\n",
            "    (36): ReLU(inplace=True)\n",
            "    (37): Conv2d(512, 512, kernel_size=(3, 3), stride=(1, 1), padding=(1, 1))\n",
            "    (38): BatchNorm2d(512, eps=1e-05, momentum=0.1, affine=True, track_running_stats=True)\n",
            "    (39): ReLU(inplace=True)\n",
            "    (40): Conv2d(512, 512, kernel_size=(3, 3), stride=(1, 1), padding=(1, 1))\n",
            "    (41): BatchNorm2d(512, eps=1e-05, momentum=0.1, affine=True, track_running_stats=True)\n",
            "    (42): ReLU(inplace=True)\n",
            "    (43): MaxPool2d(kernel_size=2, stride=2, padding=0, dilation=1, ceil_mode=False)\n",
            "  )\n",
            "  (avgpool): AdaptiveAvgPool2d(output_size=(7, 7))\n",
            "  (classifier): Sequential(\n",
            "    (0): Linear(in_features=25088, out_features=4096, bias=True)\n",
            "    (1): ReLU(inplace=True)\n",
            "    (2): Dropout(p=0.5, inplace=False)\n",
            "    (3): Linear(in_features=4096, out_features=4096, bias=True)\n",
            "    (4): ReLU(inplace=True)\n",
            "    (5): Dropout(p=0.5, inplace=False)\n",
            "    (6): Linear(in_features=4096, out_features=1000, bias=True)\n",
            "  )\n",
            ")\n"
          ],
          "name": "stdout"
        }
      ]
    },
    {
      "cell_type": "markdown",
      "metadata": {
        "id": "O3PQmuYiP_m3",
        "colab_type": "text"
      },
      "source": [
        "#customize the model /Network"
      ]
    },
    {
      "cell_type": "code",
      "metadata": {
        "id": "m0uLRyJN0kB1",
        "colab_type": "code",
        "colab": {}
      },
      "source": [
        "import torch.nn as nn\n",
        "#as per the last layer this network would classifies to 1000 clasess,\n",
        "# but we want to have the network only for 10 classes.\n",
        "# hence we need to modify the network to our need.\n",
        "\n",
        "# There are multiple way we can modify \n",
        "# 1. simple one would be change the parameter once you creating the output.\n",
        "vgg16_10 = models.vgg16(pretrained=True) #, num_classes=10) \n",
        "\n",
        "# Idea number 2: \n",
        "# Get the classifier list and modify only the last part.\n",
        "input_feature = vgg16.classifier[6].in_features\n",
        "modified_classifier = list(vgg16.classifier.children())[:-1]\n",
        "#add the last layer.\n",
        "modified_classifier.extend([nn.Linear(input_feature, 10)])\n",
        "\n",
        "#change the classifier layer\n",
        "#vgg16_10.classifier = nn.Sequential(*modified_classifier)\n",
        "\n",
        "# Idea Number 3:\n",
        "final_input_feature = vgg16_10.classifier[6].in_features\n",
        "vgg16_10.classifier[6] = nn.Linear(final_input_feature, 10)\n",
        " "
      ],
      "execution_count": 75,
      "outputs": []
    },
    {
      "cell_type": "code",
      "metadata": {
        "id": "AiQAsJcw7rJz",
        "colab_type": "code",
        "colab": {}
      },
      "source": [
        "#Get the GPU \n",
        "device = torch.device(\"cuda:0\" if torch.cuda.is_available() else \"cpu\")"
      ],
      "execution_count": 76,
      "outputs": []
    },
    {
      "cell_type": "code",
      "metadata": {
        "id": "8kXcKnzV6JuX",
        "colab_type": "code",
        "colab": {
          "base_uri": "https://localhost:8080/",
          "height": 34
        },
        "outputId": "1938188a-8b17-43e1-8da3-1b0ddd1c4274"
      },
      "source": [
        "print(device)"
      ],
      "execution_count": 77,
      "outputs": [
        {
          "output_type": "stream",
          "text": [
            "cuda:0\n"
          ],
          "name": "stdout"
        }
      ]
    },
    {
      "cell_type": "code",
      "metadata": {
        "id": "pyPANMs76XcC",
        "colab_type": "code",
        "colab": {}
      },
      "source": [
        "#Since we working on pretrained model we don't want any parameters to be trace for gradient\n",
        "for param in vgg16_10.parameters():\n",
        "  param.requires_grad = False\n",
        "\n",
        "#Alter one more time the last classification layer so that it can be retrained.\n",
        "#Unfrooze the parameter. ie. Create training parameters.\n",
        "final_input_feature = vgg16_10.classifier[6].in_features\n",
        "vgg16_10.classifier[6] = nn.Linear(final_input_feature, 10)\n"
      ],
      "execution_count": 78,
      "outputs": []
    },
    {
      "cell_type": "code",
      "metadata": {
        "id": "qdShwvEuhWrB",
        "colab_type": "code",
        "colab": {
          "base_uri": "https://localhost:8080/",
          "height": 561
        },
        "outputId": "a3d86a4c-8222-4d17-fcfb-a4a9a5a89f0e"
      },
      "source": [
        "for param in vgg16_10.parameters():\n",
        "  #if param.requires_grad :\n",
        "  print(param.shape)"
      ],
      "execution_count": 79,
      "outputs": [
        {
          "output_type": "stream",
          "text": [
            "torch.Size([64, 3, 3, 3])\n",
            "torch.Size([64])\n",
            "torch.Size([64, 64, 3, 3])\n",
            "torch.Size([64])\n",
            "torch.Size([128, 64, 3, 3])\n",
            "torch.Size([128])\n",
            "torch.Size([128, 128, 3, 3])\n",
            "torch.Size([128])\n",
            "torch.Size([256, 128, 3, 3])\n",
            "torch.Size([256])\n",
            "torch.Size([256, 256, 3, 3])\n",
            "torch.Size([256])\n",
            "torch.Size([256, 256, 3, 3])\n",
            "torch.Size([256])\n",
            "torch.Size([512, 256, 3, 3])\n",
            "torch.Size([512])\n",
            "torch.Size([512, 512, 3, 3])\n",
            "torch.Size([512])\n",
            "torch.Size([512, 512, 3, 3])\n",
            "torch.Size([512])\n",
            "torch.Size([512, 512, 3, 3])\n",
            "torch.Size([512])\n",
            "torch.Size([512, 512, 3, 3])\n",
            "torch.Size([512])\n",
            "torch.Size([512, 512, 3, 3])\n",
            "torch.Size([512])\n",
            "torch.Size([4096, 25088])\n",
            "torch.Size([4096])\n",
            "torch.Size([4096, 4096])\n",
            "torch.Size([4096])\n",
            "torch.Size([10, 4096])\n",
            "torch.Size([10])\n"
          ],
          "name": "stdout"
        }
      ]
    },
    {
      "cell_type": "code",
      "metadata": {
        "id": "h-NXj6FnhyLu",
        "colab_type": "code",
        "colab": {}
      },
      "source": [
        "#import optim\n",
        "import torch.optim as optim\n",
        "vgg16_10 = vgg16_10.to(device)                                       #Move the network to CUDA ie GPU.\n",
        "loss_fn = nn.CrossEntropyLoss()                                      #As usual choose Cross entropy loss for classfication.\n",
        "optim = torch.optim.SGD(vgg16_10.parameters(), lr=0.04)              #Optimizer Stocastic Gradient Descent.  "
      ],
      "execution_count": 80,
      "outputs": []
    },
    {
      "cell_type": "code",
      "metadata": {
        "id": "BNlYS86kUCGJ",
        "colab_type": "code",
        "colab": {}
      },
      "source": [
        "#Modify batch size get loadder again.\n",
        "bSize = 16\n",
        "trainData = torch.utils.data.DataLoader(trainset, batch_size=bSize, shuffle=True)\n",
        "testData = torch.utils.data.DataLoader(trainset, batch_size=bSize, shuffle=False)\n"
      ],
      "execution_count": 81,
      "outputs": []
    },
    {
      "cell_type": "code",
      "metadata": {
        "id": "T-OIS1VyWVad",
        "colab_type": "code",
        "colab": {
          "base_uri": "https://localhost:8080/",
          "height": 34
        },
        "outputId": "bb6d653f-cde7-4a47-ff76-030be30cca7c"
      },
      "source": [
        "a, b = iter(trainData).next()\n",
        "\n",
        "type(a)\n",
        "print(a.shape)"
      ],
      "execution_count": 82,
      "outputs": [
        {
          "output_type": "stream",
          "text": [
            "torch.Size([16, 3, 224, 224])\n"
          ],
          "name": "stdout"
        }
      ]
    },
    {
      "cell_type": "code",
      "metadata": {
        "id": "9BNHpqOVOuUK",
        "colab_type": "code",
        "colab": {
          "base_uri": "https://localhost:8080/",
          "height": 561
        },
        "outputId": "1cd61840-9fc8-4976-e528-d1237d7cb19f"
      },
      "source": [
        "#Train it.\n",
        "loss_on_each_epoch = []\n",
        " \n",
        "epoch  = 1 # 10 is too slow\n",
        "\n",
        "total_iteration = np.ceil(50000 / bSize)\n",
        "\n",
        "for i in range(epoch):\n",
        "  for j, data in enumerate(trainData, 0):\n",
        "    iData, labels = data   #List of data.\n",
        "\n",
        "    #Move the input and labels to GPU\n",
        "    iData = iData.to(device)\n",
        "    labels = labels.to(device)\n",
        "\n",
        "    #set optimization grad to ZERO\n",
        "    optim.zero_grad()\n",
        "\n",
        "    #Apply Model\n",
        "    ret = vgg16_10(iData)\n",
        "\n",
        "    #Find loss (diff)\n",
        "    loss = loss_fn(ret, labels)\n",
        "\n",
        "    #Backprobagation.\n",
        "    loss.backward()\n",
        "\n",
        "    #Update Gradients / Weights\n",
        "    optim.step()\n",
        "\n",
        "    #Get LossValue\n",
        "    #val = loss.item()\n",
        "\n",
        "    #Print every 100 Values once \n",
        "    if (j % 100  == 0) :\n",
        "      print(\"Iteration  %d/%d loss Value =[%0.2f]\" %( j, total_iteration, loss.item()))\n",
        "\n",
        "    # To optimize the memory in GPU delete the processed values.\n",
        "    del iData, labels, ret\n",
        "    torch.cuda.empty_cache()\n",
        "\n",
        "#loss value after complete epoch\n",
        "loss_on_each_epoch.append(loss.item())\n",
        "\n",
        "#TODO evalute network performance ie, accuracy.  \n",
        "\n",
        "\n"
      ],
      "execution_count": 84,
      "outputs": [
        {
          "output_type": "stream",
          "text": [
            "Iteration  0/3125 loss Value =[2.22]\n",
            "Iteration  100/3125 loss Value =[2.57]\n",
            "Iteration  200/3125 loss Value =[3.22]\n",
            "Iteration  300/3125 loss Value =[2.29]\n",
            "Iteration  400/3125 loss Value =[2.60]\n",
            "Iteration  500/3125 loss Value =[2.87]\n",
            "Iteration  600/3125 loss Value =[2.02]\n",
            "Iteration  700/3125 loss Value =[3.01]\n",
            "Iteration  800/3125 loss Value =[4.26]\n",
            "Iteration  900/3125 loss Value =[4.20]\n",
            "Iteration  1000/3125 loss Value =[1.61]\n",
            "Iteration  1100/3125 loss Value =[1.76]\n",
            "Iteration  1200/3125 loss Value =[3.31]\n",
            "Iteration  1300/3125 loss Value =[2.59]\n",
            "Iteration  1400/3125 loss Value =[3.68]\n",
            "Iteration  1500/3125 loss Value =[1.66]\n",
            "Iteration  1600/3125 loss Value =[3.56]\n",
            "Iteration  1700/3125 loss Value =[3.50]\n",
            "Iteration  1800/3125 loss Value =[2.30]\n",
            "Iteration  1900/3125 loss Value =[6.03]\n",
            "Iteration  2000/3125 loss Value =[2.53]\n",
            "Iteration  2100/3125 loss Value =[2.96]\n",
            "Iteration  2200/3125 loss Value =[1.83]\n",
            "Iteration  2300/3125 loss Value =[2.30]\n",
            "Iteration  2400/3125 loss Value =[4.75]\n",
            "Iteration  2500/3125 loss Value =[3.23]\n",
            "Iteration  2600/3125 loss Value =[3.75]\n",
            "Iteration  2700/3125 loss Value =[3.80]\n",
            "Iteration  2800/3125 loss Value =[2.91]\n",
            "Iteration  2900/3125 loss Value =[4.23]\n",
            "Iteration  3000/3125 loss Value =[2.29]\n",
            "Iteration  3100/3125 loss Value =[1.48]\n"
          ],
          "name": "stdout"
        }
      ]
    },
    {
      "cell_type": "markdown",
      "metadata": {
        "id": "yurrcYimf_cr",
        "colab_type": "text"
      },
      "source": [
        "#Check Point :   \n",
        "---\n",
        "   Model providing different losses for each batch as seen above.\n",
        "   Note :\n",
        "   1. Save the least loss produced weight and apply and use it. \n",
        "   2. How to use it.\n",
        "      1. import copy\n",
        "      2. Take deep copy of very lower loss produced network configuration.\n",
        "           Deep Copy:\n",
        "            *checkpoint_model = copy.deep_copy(vgg16_10.state_dict())*\n",
        "\n",
        "           Apply it:\n",
        "            *vgg16_10.load_state_dict(checkpoint_model)*\n",
        "            check accurecy on both testdata and training data. \n"
      ]
    },
    {
      "cell_type": "code",
      "metadata": {
        "id": "hvo9-Ko9V2td",
        "colab_type": "code",
        "colab": {}
      },
      "source": [
        " ##GOOD LUCK.\n",
        "\n",
        " #TODO : Evolution of the network accuracy.\n",
        "\n",
        " "
      ],
      "execution_count": null,
      "outputs": []
    },
    {
      "cell_type": "markdown",
      "metadata": {
        "id": "Qo2k49m0igSl",
        "colab_type": "text"
      },
      "source": [
        "#Next Networks\n",
        "ResNet,\n",
        "Inception\n"
      ]
    },
    {
      "cell_type": "code",
      "metadata": {
        "id": "t2h0FrtOilEN",
        "colab_type": "code",
        "colab": {}
      },
      "source": [
        ""
      ],
      "execution_count": null,
      "outputs": []
    }
  ]
}