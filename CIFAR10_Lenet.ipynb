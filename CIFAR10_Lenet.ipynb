{
  "nbformat": 4,
  "nbformat_minor": 0,
  "metadata": {
    "colab": {
      "name": "CIFAR10_Lenet.ipynb",
      "provenance": [],
      "collapsed_sections": [],
      "toc_visible": true,
      "authorship_tag": "ABX9TyOYUcWKrf5lLaIVSL1Lp0Uf",
      "include_colab_link": true
    },
    "kernelspec": {
      "name": "python3",
      "display_name": "Python 3"
    }
  },
  "cells": [
    {
      "cell_type": "markdown",
      "metadata": {
        "id": "view-in-github",
        "colab_type": "text"
      },
      "source": [
        "<a href=\"https://colab.research.google.com/github/Gramani-Kumar/DL-Demo/blob/master/CIFAR10_Lenet.ipynb\" target=\"_parent\"><img src=\"https://colab.research.google.com/assets/colab-badge.svg\" alt=\"Open In Colab\"/></a>"
      ]
    },
    {
      "cell_type": "markdown",
      "metadata": {
        "id": "q2cmpy_89is1",
        "colab_type": "text"
      },
      "source": [
        "# What are we going to do ?\n",
        "\n",
        "    CIFAR-10 classification with Deep Nuerual Network. \n",
        "     1. Try with simple network\n",
        "     2. Image classification : If a given image we should be able to predict which class or catagory it is.\n",
        "     3. Use LeNet Network : Tip, LeNet was the first DNN designed by Yann LeCun. Google it or find wiki for more about it. :)  "
      ]
    },
    {
      "cell_type": "markdown",
      "metadata": {
        "id": "BV2M4Um9-mNg",
        "colab_type": "text"
      },
      "source": [
        "##By the by, what is CIFAR-10 ?\n",
        "   Good Question. CIFAR-10, Candadian Institute For Andance Research (University of Toronto). Provided 10 image passed classification data set.\n",
        "   10 category : Plane, Car, Bird, Car, Deer, Dog, Frog, Horse, Ship and Truck.\n",
        "   images in each category : 6000\n",
        "   image size : 32x32"
      ]
    },
    {
      "cell_type": "code",
      "metadata": {
        "id": "XpUZUdkB3EsH",
        "colab_type": "code",
        "colab": {}
      },
      "source": [
        "#import necessary library\n",
        "import numpy as np\n",
        "import matplotlib.pyplot as plt\n",
        "import torch"
      ],
      "execution_count": null,
      "outputs": []
    },
    {
      "cell_type": "markdown",
      "metadata": {
        "id": "0GB4UAwkELaL",
        "colab_type": "text"
      },
      "source": [
        "# Load the data.\n",
        "   Data provided in the torchvision package itself."
      ]
    },
    {
      "cell_type": "code",
      "metadata": {
        "id": "lLsni0-T8755",
        "colab_type": "code",
        "colab": {}
      },
      "source": [
        "#import dataset package / library\n",
        "import torchvision\n",
        "import torchvision.transforms as transforms  #To process or convert the input into specific dimension"
      ],
      "execution_count": null,
      "outputs": []
    },
    {
      "cell_type": "code",
      "metadata": {
        "id": "WLENo_Q1ErLC",
        "colab_type": "code",
        "colab": {
          "base_uri": "https://localhost:8080/",
          "height": 34
        },
        "outputId": "1eb872c3-e92f-46ad-94bc-15fc023977fe"
      },
      "source": [
        "trainSet = torchvision.datasets.CIFAR10(root=\"myData\",download=True, train=True, transform = transforms.ToTensor())   #Download DataSet and convert into Tensor"
      ],
      "execution_count": null,
      "outputs": [
        {
          "output_type": "stream",
          "text": [
            "Files already downloaded and verified\n"
          ],
          "name": "stdout"
        }
      ]
    },
    {
      "cell_type": "code",
      "metadata": {
        "id": "PnOht0gJ7dky",
        "colab_type": "code",
        "colab": {}
      },
      "source": [
        "#Data Loader. We have downloded data as batch which well compressed format. (PIL)\n",
        "#Load it now.\n",
        "trainData = torch.utils.data.DataLoader(trainSet,  batch_size=4, shuffle=True)  #Load image data 4 by 4... Randomly pick your data as well\n",
        "                                     "
      ],
      "execution_count": null,
      "outputs": []
    },
    {
      "cell_type": "code",
      "metadata": {
        "id": "OgK2Bv-TIcW5",
        "colab_type": "code",
        "colab": {}
      },
      "source": [
        "#Define Class which already declared but it will like index / integer\n",
        "imgClass = ['Plane', 'Car', 'Bird', 'Cat', 'Deer', 'Dog', 'Frog', 'Horse', 'Ship', 'Truck']"
      ],
      "execution_count": null,
      "outputs": []
    },
    {
      "cell_type": "code",
      "metadata": {
        "id": "VLLhGaZpzltm",
        "colab_type": "code",
        "colab": {}
      },
      "source": [
        "dataIter = iter(trainData)  #Retrieve Data / Image\n",
        "imgData = dataIter.next()  #Todo structure detail about dataIter.next() return: \n",
        " #Currently convience dataIter.next() returns List of Images and List of True value in a list.\n",
        " # [[Imag1,Imag2,Img3,Img4],[1,2,3,4]] , Each image having row and column.  \n"
      ],
      "execution_count": null,
      "outputs": []
    },
    {
      "cell_type": "code",
      "metadata": {
        "id": "6SSJ4pl1ztFJ",
        "colab_type": "code",
        "colab": {}
      },
      "source": [
        "#Lets get a batch.\n",
        "img, label = dataIter.next()"
      ],
      "execution_count": null,
      "outputs": []
    },
    {
      "cell_type": "code",
      "metadata": {
        "id": "oIIRQR0L0MXn",
        "colab_type": "code",
        "colab": {
          "base_uri": "https://localhost:8080/",
          "height": 68
        },
        "outputId": "4d85e6a6-04f8-465f-decc-673e928aeee8"
      },
      "source": [
        "#Lets check what are the sizes.\n",
        "print(img.shape) \n",
        "print(label.shape)\n",
        "print(label.size())"
      ],
      "execution_count": null,
      "outputs": [
        {
          "output_type": "stream",
          "text": [
            "torch.Size([4, 3, 32, 32])\n",
            "torch.Size([4])\n",
            "torch.Size([4])\n"
          ],
          "name": "stdout"
        }
      ]
    },
    {
      "cell_type": "markdown",
      "metadata": {
        "id": "hzG9x80W2DlE",
        "colab_type": "text"
      },
      "source": [
        "#Lets Visualise data"
      ]
    },
    {
      "cell_type": "code",
      "metadata": {
        "id": "_YgeULL717Kq",
        "colab_type": "code",
        "colab": {
          "base_uri": "https://localhost:8080/",
          "height": 34
        },
        "outputId": "7d0a7e37-fbc8-4a15-bc8d-a66e4c979d81"
      },
      "source": [
        "print(label)"
      ],
      "execution_count": null,
      "outputs": [
        {
          "output_type": "stream",
          "text": [
            "tensor([5, 0, 3, 3])\n"
          ],
          "name": "stdout"
        }
      ]
    },
    {
      "cell_type": "code",
      "metadata": {
        "id": "bGh1Wx6J2NgM",
        "colab_type": "code",
        "colab": {}
      },
      "source": [
        "tImage = img[1]"
      ],
      "execution_count": null,
      "outputs": []
    },
    {
      "cell_type": "code",
      "metadata": {
        "id": "7ZWp8yzM2d4D",
        "colab_type": "code",
        "colab": {
          "base_uri": "https://localhost:8080/",
          "height": 34
        },
        "outputId": "d8eb0a68-f0c0-42e2-a784-fb79b64456c8"
      },
      "source": [
        "tImage.shape  #It is a image size. To Plot an image it should be converted to NumPy"
      ],
      "execution_count": null,
      "outputs": [
        {
          "output_type": "execute_result",
          "data": {
            "text/plain": [
              "torch.Size([3, 32, 32])"
            ]
          },
          "metadata": {
            "tags": []
          },
          "execution_count": 179
        }
      ]
    },
    {
      "cell_type": "code",
      "metadata": {
        "id": "Z7HaZc812e8w",
        "colab_type": "code",
        "colab": {}
      },
      "source": [
        "#Convert into Numpy from Tensor\n",
        "npImage = tImage.numpy()"
      ],
      "execution_count": null,
      "outputs": []
    },
    {
      "cell_type": "code",
      "metadata": {
        "id": "loyO-wTc26fj",
        "colab_type": "code",
        "colab": {
          "base_uri": "https://localhost:8080/",
          "height": 34
        },
        "outputId": "1cbb6297-5d7f-4a9d-a02b-710d7102a11b"
      },
      "source": [
        "#Before Plotting there is a trick we have to do.\n",
        "#The Dimension of a image would be x,y,z ie, z represent number of channel but when you look the data of tensor it is\n",
        "# ordered in some other way (z,x,y). This we need to sort it out this issue by re-allinging its positions.\n",
        "# use np.transpose() to re-arrange it.\n",
        "\n",
        "nptImage = npImage.transpose(1, 2, 0)\n",
        "print(nptImage.shape)  #It would be converted to [32,32,3]\n"
      ],
      "execution_count": null,
      "outputs": [
        {
          "output_type": "stream",
          "text": [
            "(32, 32, 3)\n"
          ],
          "name": "stdout"
        }
      ]
    },
    {
      "cell_type": "code",
      "metadata": {
        "id": "dGaGRMjc28N5",
        "colab_type": "code",
        "colab": {
          "base_uri": "https://localhost:8080/",
          "height": 105
        },
        "outputId": "ec088ca8-ef84-4203-bb7a-31f6e1fd8399"
      },
      "source": [
        "#Plot it.\n",
        "plt.figure(figsize=(1,1))  #TODO figure of what is the prameter says.\n",
        "plt.imshow(nptImage)  #Imshow it is very popular function to draw for Image.\n",
        "plt.show()            #Plot / show the image."
      ],
      "execution_count": null,
      "outputs": [
        {
          "output_type": "display_data",
          "data": {
            "image/png": "[encoded data removed]",
            "text/plain": [
              "<Figure size 72x72 with 1 Axes>"
            ]
          },
          "metadata": {
            "tags": [],
            "needs_background": "light"
          }
        }
      ]
    },
    {
      "cell_type": "code",
      "metadata": {
        "id": "YndNmY5653HQ",
        "colab_type": "code",
        "colab": {
          "base_uri": "https://localhost:8080/",
          "height": 34
        },
        "outputId": "2c0952c2-ab47-412f-bdbd-96cc8af6ce2b"
      },
      "source": [
        "#It is image of airoplane so what is label. check the tensor variable.\n",
        "print(imgClass[label[1].item()])\n"
      ],
      "execution_count": null,
      "outputs": [
        {
          "output_type": "stream",
          "text": [
            "Plane\n"
          ],
          "name": "stdout"
        }
      ]
    },
    {
      "cell_type": "code",
      "metadata": {
        "id": "5QuQFltv6s8i",
        "colab_type": "code",
        "colab": {
          "base_uri": "https://localhost:8080/",
          "height": 155
        },
        "outputId": "fb620390-cb0a-4bb7-c62d-f2fda83f4124"
      },
      "source": [
        "def myImgShow(tImage):\n",
        "  npTImg = tImage.numpy()\n",
        "  plt.imshow(npTImg.transpose(1, 2, 0))\n",
        "  plt.show() \n",
        "\n",
        "\n",
        "myImgShow(torchvision.utils.make_grid(img))  \n",
        "print(' '.join(imgClass[label[i]] for i in range(4)))"
      ],
      "execution_count": null,
      "outputs": [
        {
          "output_type": "display_data",
          "data": {
            "image/png": "[encoded data removed]",
            "text/plain": [
              "<Figure size 432x288 with 1 Axes>"
            ]
          },
          "metadata": {
            "tags": [],
            "needs_background": "light"
          }
        },
        {
          "output_type": "stream",
          "text": [
            "Dog Car Cat Horse\n"
          ],
          "name": "stdout"
        }
      ]
    },
    {
      "cell_type": "code",
      "metadata": {
        "id": "1-OmJKrt_CAp",
        "colab_type": "code",
        "colab": {}
      },
      "source": [
        "t = torchvision.utils.make_grid(img)"
      ],
      "execution_count": null,
      "outputs": []
    },
    {
      "cell_type": "code",
      "metadata": {
        "id": "mZSQGytmIQiA",
        "colab_type": "code",
        "colab": {
          "base_uri": "https://localhost:8080/",
          "height": 34
        },
        "outputId": "9c44e874-0969-476c-9c64-09582d5d6582"
      },
      "source": [
        "t.shape"
      ],
      "execution_count": null,
      "outputs": [
        {
          "output_type": "execute_result",
          "data": {
            "text/plain": [
              "torch.Size([3, 36, 138])"
            ]
          },
          "metadata": {
            "tags": []
          },
          "execution_count": 186
        }
      ]
    },
    {
      "cell_type": "code",
      "metadata": {
        "id": "jsWpBYWtIRe6",
        "colab_type": "code",
        "colab": {
          "base_uri": "https://localhost:8080/",
          "height": 138
        },
        "outputId": "2b96f898-8d7c-4d7a-fba1-d09eb98ec58c"
      },
      "source": [
        "a = t.numpy()\n",
        "plt.imshow(a.transpose(1, 2, 0))\n",
        "plt.show()\n"
      ],
      "execution_count": null,
      "outputs": [
        {
          "output_type": "display_data",
          "data": {
            "image/png": "[encoded data removed]",
            "text/plain": [
              "<Figure size 432x288 with 1 Axes>"
            ]
          },
          "metadata": {
            "tags": [],
            "needs_background": "light"
          }
        }
      ]
    },
    {
      "cell_type": "markdown",
      "metadata": {
        "id": "JIkN9Z1bKP3e",
        "colab_type": "text"
      },
      "source": [
        "#Single Convolution Layer "
      ]
    },
    {
      "cell_type": "code",
      "metadata": {
        "id": "a-_9t4MRIhs5",
        "colab_type": "code",
        "colab": {}
      },
      "source": [
        "#Just for fun create simple Convolution Network with one layer.\n",
        "\n",
        "#Lets construct very simple Convolution network:\n",
        "   #input channel  = 3 (3 channles of RGB in the image) \n",
        "   #Ouput channel  = number convoluted images (= number of kernel)\n",
        "   #Size of the kernel = 3 (size we have small image)\n",
        "\n",
        "import torch.nn as nn\n",
        "\n",
        "class FirstCNN(nn.Module):\n",
        "  def __init__(self):\n",
        "    super(FirstCNN, self).__init__()\n",
        "    self.net = nn.Conv2d(3, 18, 3)  #3 input, 18 output, 3x3 kernel size.\n",
        "\n",
        "  def forward(self, iX):\n",
        "    x = self.net(iX)\n",
        "    return x\n"
      ],
      "execution_count": null,
      "outputs": []
    },
    {
      "cell_type": "code",
      "metadata": {
        "id": "WHdKJAZdV8Dw",
        "colab_type": "code",
        "colab": {}
      },
      "source": [
        "#Creat an Instance.\n",
        "testNet = FirstCNN()\n",
        "\n",
        "output = testNet(img)"
      ],
      "execution_count": null,
      "outputs": []
    },
    {
      "cell_type": "code",
      "metadata": {
        "id": "avafkY0PYQWL",
        "colab_type": "code",
        "colab": {
          "base_uri": "https://localhost:8080/",
          "height": 34
        },
        "outputId": "77f12cbe-b74c-44b4-9ad3-490a209322cc"
      },
      "source": [
        "#lets check output \n",
        "output.shape"
      ],
      "execution_count": null,
      "outputs": [
        {
          "output_type": "execute_result",
          "data": {
            "text/plain": [
              "torch.Size([4, 18, 30, 30])"
            ]
          },
          "metadata": {
            "tags": []
          },
          "execution_count": 31
        }
      ]
    },
    {
      "cell_type": "code",
      "metadata": {
        "id": "5P9SkgisYago",
        "colab_type": "code",
        "colab": {
          "base_uri": "https://localhost:8080/",
          "height": 266
        },
        "outputId": "5b09db06-17d2-4691-a482-a659427f4bca"
      },
      "source": [
        "#we got 4,18,30,30 : which means: 4 images convoluted parallelly and provided 18 output.\n",
        "#Size reduced because of padding not provided. 3x3 will truncate all the side.\n",
        "\n",
        "tOut = output.detach().numpy()\n",
        "plt.imshow(tOut[0,14,:,:]) \n",
        "plt.show() #here you go.."
      ],
      "execution_count": null,
      "outputs": [
        {
          "output_type": "display_data",
          "data": {
            "image/png": "[encoded data removed]",
            "text/plain": [
              "<Figure size 432x288 with 1 Axes>"
            ]
          },
          "metadata": {
            "tags": [],
            "needs_background": "light"
          }
        }
      ]
    },
    {
      "cell_type": "markdown",
      "metadata": {
        "id": "0r7qVQbkaIAf",
        "colab_type": "text"
      },
      "source": [
        "#Deep Convolutional Neural Network\n",
        "  Create dummy network and to the convolution operation \n",
        "  Check the ouptput all the layer."
      ]
    },
    {
      "cell_type": "code",
      "metadata": {
        "id": "1rZVvj7nZQpL",
        "colab_type": "code",
        "colab": {}
      },
      "source": [
        "class SecondCNN(nn.Module):\n",
        "  def __init__(self):\n",
        "    super(SecondCNN, self).__init__()\n",
        "    self.net = nn.Sequential(\n",
        "        nn.Conv2d(3, 16, 3),\n",
        "        nn.ReLU(),\n",
        "        nn.Conv2d(16, 10, 3),\n",
        "        nn.Conv2d(10, 26, 5)\n",
        "    )\n",
        "\n",
        "  def forward(self, X):\n",
        "    output = self.net(X)\n",
        "    return output\n"
      ],
      "execution_count": null,
      "outputs": []
    },
    {
      "cell_type": "code",
      "metadata": {
        "id": "imtUW20bcEPZ",
        "colab_type": "code",
        "colab": {}
      },
      "source": [
        "#object\n",
        "net = SecondCNN()\n",
        "output = net(img)"
      ],
      "execution_count": null,
      "outputs": []
    },
    {
      "cell_type": "code",
      "metadata": {
        "id": "5D0Qa0OjcPLT",
        "colab_type": "code",
        "colab": {
          "base_uri": "https://localhost:8080/",
          "height": 34
        },
        "outputId": "a7f94add-d395-4a17-a92f-ab1cc0d50753"
      },
      "source": [
        "output.shape"
      ],
      "execution_count": null,
      "outputs": [
        {
          "output_type": "execute_result",
          "data": {
            "text/plain": [
              "torch.Size([4, 26, 24, 24])"
            ]
          },
          "metadata": {
            "tags": []
          },
          "execution_count": 194
        }
      ]
    },
    {
      "cell_type": "code",
      "metadata": {
        "id": "48UVsdkTdMQ3",
        "colab_type": "code",
        "colab": {
          "base_uri": "https://localhost:8080/",
          "height": 266
        },
        "outputId": "a3429479-dd90-4a60-ace7-701a8b00645d"
      },
      "source": [
        "plt.show(plt.imshow(output.detach().numpy()[0,0,:,:]))"
      ],
      "execution_count": null,
      "outputs": [
        {
          "output_type": "display_data",
          "data": {
            "image/png": "[encoded data removed]",
            "text/plain": [
              "<Figure size 432x288 with 1 Axes>"
            ]
          },
          "metadata": {
            "tags": [],
            "needs_background": "light"
          }
        }
      ]
    },
    {
      "cell_type": "markdown",
      "metadata": {
        "id": "TTVaFxgnnDcA",
        "colab_type": "text"
      },
      "source": [
        "#LeNet \n",
        "  Construct LeNet \n",
        "  LeNet : Very first network of modleing image classification with 32x32 input."
      ]
    },
    {
      "cell_type": "code",
      "metadata": {
        "id": "ip7rYnQedh5v",
        "colab_type": "code",
        "colab": {}
      },
      "source": [
        "class myLeNet(nn.Module):\n",
        "  def __init__(self):\n",
        "    super(myLeNet, self).__init__()\n",
        "    self.cnnModel = nn.Sequential(\n",
        "        nn.Conv2d(3, 6, 5),         #N,3,32,32 -> N,6,28,28\n",
        "        nn.Tanh(),\n",
        "        nn.AvgPool2d(2, stride=2),  #N,6,28,28 -> N,6,14,14\n",
        "        nn.Conv2d(6, 16, 5),         #N,6,14,14 -> N,16,10,10\n",
        "        nn.Tanh(),\n",
        "        nn.AvgPool2d(2, stride=2)   #N,16,10,10 -> N,16,5,5   \n",
        "    )\n",
        "\n",
        "    self.fcModel = nn.Sequential(\n",
        "        nn.Linear(400, 120),        # N, 400  N,120 \n",
        "        nn.Tanh(),\n",
        "        nn.Linear(120,84),          # N, 120  N,84\n",
        "        nn.Tanh(),\n",
        "        nn.Linear(84, 10)           # N   84, 10\n",
        "    )\n",
        "\n",
        "  def forward(self, X):\n",
        "      #print(\"Input size \", X.shape)\n",
        "  \n",
        "      iO = self.cnnModel(X)\n",
        "\n",
        "      #print(\"Convoluted output Shape\", iO.shape)\n",
        "\n",
        "      #Need to Flatten the squre type input.\n",
        "      iO = iO.view(iO.size(0), -1)                        #Flatten 4x16x5x5. => 4x(16x5x5)\n",
        "\n",
        "      #print(\"Flatten Output\", iO.shape)\n",
        "      output = self.fcModel(iO)\n",
        "\n",
        "      #print(\"Output size \", output.shape)\n",
        "\n",
        "      return output\n"
      ],
      "execution_count": null,
      "outputs": []
    },
    {
      "cell_type": "code",
      "metadata": {
        "id": "u6OL04qfrxkm",
        "colab_type": "code",
        "colab": {
          "base_uri": "https://localhost:8080/",
          "height": 85
        },
        "outputId": "1cba16a0-3aa2-4f6b-ffab-003d8f083693"
      },
      "source": [
        "  #Create object for network\n",
        "  leNet = myLeNet()\n",
        "  output = leNet(img)"
      ],
      "execution_count": null,
      "outputs": [
        {
          "output_type": "stream",
          "text": [
            "Input size  torch.Size([4, 3, 32, 32])\n",
            "Convoluted output Shape torch.Size([4, 16, 5, 5])\n",
            "Flatten Output torch.Size([4, 400])\n",
            "Output size  torch.Size([4, 10])\n"
          ],
          "name": "stdout"
        }
      ]
    },
    {
      "cell_type": "code",
      "metadata": {
        "id": "5kGBctIsvrAw",
        "colab_type": "code",
        "colab": {
          "base_uri": "https://localhost:8080/",
          "height": 153
        },
        "outputId": "ae202728-1119-4cd9-87f3-6305d70955ca"
      },
      "source": [
        "print(output)"
      ],
      "execution_count": null,
      "outputs": [
        {
          "output_type": "stream",
          "text": [
            "tensor([[ 0.0154, -0.0164, -0.0155, -0.0487,  0.0541,  0.1399, -0.0962,  0.1132,\n",
            "          0.0711,  0.1197],\n",
            "        [ 0.0152, -0.0144, -0.0181, -0.0273,  0.0354,  0.1065, -0.1141,  0.0859,\n",
            "          0.0668,  0.1028],\n",
            "        [ 0.0197, -0.0215, -0.0444, -0.0611,  0.0454,  0.1215, -0.1205,  0.1080,\n",
            "          0.0700,  0.1074],\n",
            "        [ 0.0219, -0.0124, -0.0234, -0.0451,  0.0443,  0.1242, -0.1269,  0.0942,\n",
            "          0.0641,  0.0850]], grad_fn=<AddmmBackward>)\n"
          ],
          "name": "stdout"
        }
      ]
    },
    {
      "cell_type": "code",
      "metadata": {
        "id": "WZEbwCb-xCG-",
        "colab_type": "code",
        "colab": {
          "base_uri": "https://localhost:8080/",
          "height": 34
        },
        "outputId": "0f1e16a6-49ec-449e-fc5d-4f8ddbd85eab"
      },
      "source": [
        "#check what it is predicting.\n",
        "max_value, pred_class = output.max(dim=1)\n",
        "print(pred_class)"
      ],
      "execution_count": null,
      "outputs": [
        {
          "output_type": "stream",
          "text": [
            "tensor([5, 5, 5, 5])\n"
          ],
          "name": "stdout"
        }
      ]
    },
    {
      "cell_type": "code",
      "metadata": {
        "id": "vDY8mSg9zV7k",
        "colab_type": "code",
        "colab": {
          "base_uri": "https://localhost:8080/",
          "height": 51
        },
        "outputId": "a3f9cc53-0223-47f1-af35-49a0c7d03a43"
      },
      "source": [
        "max_value, pred_class = torch.max(output, dim=1)\n",
        "print(pred_class)\n",
        "print(max_value)"
      ],
      "execution_count": null,
      "outputs": [
        {
          "output_type": "stream",
          "text": [
            "tensor([5, 5, 5, 5])\n",
            "tensor([0.1399, 0.1065, 0.1215, 0.1242], grad_fn=<MaxBackward0>)\n"
          ],
          "name": "stdout"
        }
      ]
    },
    {
      "cell_type": "markdown",
      "metadata": {
        "id": "fyMZnbgWzxgr",
        "colab_type": "text"
      },
      "source": [
        "#Train the LeNet"
      ]
    },
    {
      "cell_type": "code",
      "metadata": {
        "id": "wRtjvb5rzpGW",
        "colab_type": "code",
        "colab": {
          "base_uri": "https://localhost:8080/",
          "height": 51
        },
        "outputId": "70299925-f0f1-4cbc-b1ca-0c2195471f2f"
      },
      "source": [
        "#create TestData, TrainData\n",
        "batchSize = 128   #Higher batch size.\n",
        "trainSet = torchvision.datasets.CIFAR10(root=\"myData\", train=True, transform=torchvision.transforms.ToTensor(), download=True)\n",
        "trainLoader = torch.utils.data.DataLoader(trainSet, batch_size= batchSize, shuffle=True) #\n",
        "\n",
        "testSet = torchvision.datasets.CIFAR10(root=\"myData\", train=False, transform= torchvision.transforms.ToTensor(), download= True)\n",
        "testLoader = torch.utils.data.DataLoader(testSet, batch_size=batchSize, shuffle=False) #Not required to set for Shuffle.\n",
        " "
      ],
      "execution_count": null,
      "outputs": [
        {
          "output_type": "stream",
          "text": [
            "Files already downloaded and verified\n",
            "Files already downloaded and verified\n"
          ],
          "name": "stdout"
        }
      ]
    },
    {
      "cell_type": "code",
      "metadata": {
        "id": "3MOAHaJb0hR-",
        "colab_type": "code",
        "colab": {}
      },
      "source": [
        "def evaluation(dataLoader, network):\n",
        "  total = 0\n",
        "  correct = 0\n",
        "  for data in dataLoader:\n",
        "    #Set the input and output\n",
        "    inputs, labels = data # remember (images, labels)\n",
        "    output = network(inputs)\n",
        "    #Just predict Maxvalue which is predicted as class in this iteration\n",
        "    _,pred = output.max(dim=1)\n",
        "    total += labels.size(0) #total imges in the batch (128 in our case)\n",
        "    #correct one.\n",
        "    correct += (pred == labels).sum().item() # How many we predicted as true\n",
        "\n",
        "  return 100 * correct/total #Total percentage.  \n",
        "\n"
      ],
      "execution_count": null,
      "outputs": []
    },
    {
      "cell_type": "code",
      "metadata": {
        "id": "epfwFdYR-8Wq",
        "colab_type": "code",
        "colab": {}
      },
      "source": [
        "#Create object of Network for train\n",
        "leNet = myLeNet()\n"
      ],
      "execution_count": null,
      "outputs": []
    },
    {
      "cell_type": "code",
      "metadata": {
        "id": "BZ0okBoF_PHQ",
        "colab_type": "code",
        "colab": {}
      },
      "source": [
        "import torch.optim as optim\n",
        "#import torch.nn.functional as F\n",
        "\n",
        "loss_fn = nn.CrossEntropyLoss()\n",
        "opt = optim.Adam(leNet.parameters()) \n"
      ],
      "execution_count": null,
      "outputs": []
    },
    {
      "cell_type": "code",
      "metadata": {
        "id": "Lo8CivVp_XUC",
        "colab_type": "code",
        "colab": {
          "base_uri": "https://localhost:8080/",
          "height": 843
        },
        "outputId": "d9c2de1e-517f-4c18-85eb-113c4b998bb9"
      },
      "source": [
        "#Train the data with Network\n",
        "%%time\n",
        "lossArray= []\n",
        "lossEpochArr=[]\n",
        "setEpoch = 32\n",
        "\n",
        "for epoch in range(setEpoch):\n",
        "  for i, data in enumerate(trainLoader, 0):\n",
        "    input, label = data\n",
        "\n",
        "    opt.zero_grad()\n",
        "    output = leNet(input)\n",
        "    loss = loss_fn(output, label)\n",
        "    loss.backward()\n",
        "\n",
        "    opt.step()\n",
        "\n",
        "    lossArray.append(loss.item())\n",
        "\n",
        "  lossEpochArr.append(loss.item())\n",
        "\n",
        "  print(\"Epoch : %d/%d, Test acc %0.2f, Train acc:%0.2f\" % (epoch, setEpoch, evaluation(testLoader, leNet),evaluation(trainLoader, leNet)))  \n",
        "\n",
        "\n",
        "plt.plot(lossEpochArr)\n",
        "plt.show()   "
      ],
      "execution_count": null,
      "outputs": [
        {
          "output_type": "stream",
          "text": [
            "Epoch : 0/32, Test acc 49.08, Train acc:50.25\n",
            "Epoch : 1/32, Test acc 50.81, Train acc:52.97\n",
            "Epoch : 2/32, Test acc 51.91, Train acc:54.54\n",
            "Epoch : 3/32, Test acc 52.29, Train acc:56.03\n",
            "Epoch : 4/32, Test acc 53.38, Train acc:57.70\n",
            "Epoch : 5/32, Test acc 54.29, Train acc:59.15\n",
            "Epoch : 6/32, Test acc 54.63, Train acc:60.23\n",
            "Epoch : 7/32, Test acc 55.00, Train acc:61.37\n",
            "Epoch : 8/32, Test acc 55.27, Train acc:62.48\n",
            "Epoch : 9/32, Test acc 55.32, Train acc:63.02\n",
            "Epoch : 10/32, Test acc 55.27, Train acc:63.85\n",
            "Epoch : 11/32, Test acc 55.83, Train acc:65.09\n",
            "Epoch : 12/32, Test acc 56.01, Train acc:66.04\n",
            "Epoch : 13/32, Test acc 55.27, Train acc:65.61\n",
            "Epoch : 14/32, Test acc 55.97, Train acc:67.12\n",
            "Epoch : 15/32, Test acc 55.68, Train acc:67.29\n",
            "Epoch : 16/32, Test acc 56.07, Train acc:68.28\n",
            "Epoch : 17/32, Test acc 55.94, Train acc:68.59\n",
            "Epoch : 18/32, Test acc 55.98, Train acc:69.11\n",
            "Epoch : 19/32, Test acc 55.70, Train acc:70.24\n",
            "Epoch : 20/32, Test acc 55.90, Train acc:70.64\n",
            "Epoch : 21/32, Test acc 55.27, Train acc:71.22\n",
            "Epoch : 22/32, Test acc 55.58, Train acc:71.96\n",
            "Epoch : 23/32, Test acc 55.74, Train acc:72.37\n",
            "Epoch : 24/32, Test acc 55.34, Train acc:72.96\n",
            "Epoch : 25/32, Test acc 54.69, Train acc:73.44\n",
            "Epoch : 26/32, Test acc 55.06, Train acc:74.62\n",
            "Epoch : 27/32, Test acc 55.12, Train acc:74.53\n",
            "Epoch : 28/32, Test acc 55.21, Train acc:75.16\n",
            "Epoch : 29/32, Test acc 55.09, Train acc:75.78\n",
            "Epoch : 30/32, Test acc 55.20, Train acc:76.62\n",
            "Epoch : 31/32, Test acc 54.67, Train acc:75.79\n"
          ],
          "name": "stdout"
        },
        {
          "output_type": "display_data",
          "data": {
            "image/png": "[encoded data removed]",
            "text/plain": [
              "<Figure size 432x288 with 1 Axes>"
            ]
          },
          "metadata": {
            "tags": [],
            "needs_background": "light"
          }
        },
        {
          "output_type": "stream",
          "text": [
            "CPU times: user 15min 56s, sys: 23.4 s, total: 16min 19s\n",
            "Wall time: 16min 22s\n"
          ],
          "name": "stdout"
        }
      ]
    },
    {
      "cell_type": "markdown",
      "metadata": {
        "id": "7G9JpUvAlTOh",
        "colab_type": "text"
      },
      "source": [
        "##Result:\n",
        "  #Epoch : 31/32, Test acc 54.67, Train acc:75.79\n",
        "\n",
        "  Which means, We are able to predict the accuracy of 75.79%. \n",
        "  Issues :\n",
        "    1. Test accuracy just around 55% : This need to increased by tunning Hyperparametets :\n",
        "       \n",
        "*   increase epoch (seems not good option)\n",
        "*   change the activation function\n",
        "*   Use options on optimization.\n",
        "*   Learning rate.\n",
        "\n",
        "\n",
        "\n",
        "\n",
        "       \n",
        "       .\n",
        "       \n",
        "\n",
        "\n"
      ]
    },
    {
      "cell_type": "code",
      "metadata": {
        "id": "oxxG6XUXZrhc",
        "colab_type": "code",
        "colab": {
          "base_uri": "https://localhost:8080/",
          "height": 34
        },
        "outputId": "52eaba20-d8b3-483d-f2d1-c07a3ebdf140"
      },
      "source": [
        "#Get the retrieved old data\n",
        "img.shape"
      ],
      "execution_count": null,
      "outputs": [
        {
          "output_type": "execute_result",
          "data": {
            "text/plain": [
              "torch.Size([4, 3, 32, 32])"
            ]
          },
          "metadata": {
            "tags": []
          },
          "execution_count": 34
        }
      ]
    },
    {
      "cell_type": "code",
      "metadata": {
        "id": "4u10On3IiiNB",
        "colab_type": "code",
        "colab": {
          "base_uri": "https://localhost:8080/",
          "height": 155
        },
        "outputId": "0698c820-9c12-4f11-b01c-97618d4c3b6a"
      },
      "source": [
        "#plt.show(plt.imshow(img.detach.numpy().transpose(1,2,0)))\n",
        "t = torchvision.utils.make_grid(img)\n",
        "plt.imshow(t.numpy().transpose(1,2,0))\n"
      ],
      "execution_count": null,
      "outputs": [
        {
          "output_type": "execute_result",
          "data": {
            "text/plain": [
              "<matplotlib.image.AxesImage at 0x7fe611b54710>"
            ]
          },
          "metadata": {
            "tags": []
          },
          "execution_count": 39
        },
        {
          "output_type": "display_data",
          "data": {
            "image/png": "[encoded data removed]",
            "text/plain": [
              "<Figure size 432x288 with 1 Axes>"
            ]
          },
          "metadata": {
            "tags": [],
            "needs_background": "light"
          }
        }
      ]
    },
    {
      "cell_type": "code",
      "metadata": {
        "id": "3vxUJZTNiyZI",
        "colab_type": "code",
        "colab": {
          "base_uri": "https://localhost:8080/",
          "height": 51
        },
        "outputId": "e4dafe4a-f76d-4ba1-d188-6f6c9ce8a69a"
      },
      "source": [
        "print(img.shape)\n",
        "print(img[0].shape)\n",
        "out = leNet.cnnModel[0](img)\n",
        "#leNet(ima)\n",
        "newNet = myLeNet()"
      ],
      "execution_count": null,
      "outputs": [
        {
          "output_type": "stream",
          "text": [
            "torch.Size([4, 3, 32, 32])\n",
            "torch.Size([3, 32, 32])\n"
          ],
          "name": "stdout"
        }
      ]
    },
    {
      "cell_type": "code",
      "metadata": {
        "id": "yjraYdl_mGYH",
        "colab_type": "code",
        "colab": {
          "base_uri": "https://localhost:8080/",
          "height": 34
        },
        "outputId": "7df0aaca-5be6-4910-8ca6-38e2dfa57e0c"
      },
      "source": [
        "#newNet(img)\n",
        "#out = newNet.cnnModel[0](img[1])\n",
        "out.shape"
      ],
      "execution_count": null,
      "outputs": [
        {
          "output_type": "execute_result",
          "data": {
            "text/plain": [
              "torch.Size([4, 6, 28, 28])"
            ]
          },
          "metadata": {
            "tags": []
          },
          "execution_count": 52
        }
      ]
    },
    {
      "cell_type": "code",
      "metadata": {
        "id": "g8wKmOy2nWVl",
        "colab_type": "code",
        "colab": {
          "base_uri": "https://localhost:8080/",
          "height": 34
        },
        "outputId": "c6c344cf-92a9-42b5-df73-e90c0e9e8892"
      },
      "source": [
        "out.shape"
      ],
      "execution_count": null,
      "outputs": [
        {
          "output_type": "execute_result",
          "data": {
            "text/plain": [
              "torch.Size([4, 6, 28, 28])"
            ]
          },
          "metadata": {
            "tags": []
          },
          "execution_count": 49
        }
      ]
    },
    {
      "cell_type": "code",
      "metadata": {
        "id": "C1rhi4h9nkXG",
        "colab_type": "code",
        "colab": {}
      },
      "source": [
        ""
      ],
      "execution_count": null,
      "outputs": []
    }
  ]
}